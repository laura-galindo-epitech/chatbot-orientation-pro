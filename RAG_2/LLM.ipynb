{
 "cells": [
  {
   "cell_type": "markdown",
   "id": "ccaa569d",
   "metadata": {},
   "source": [
    "\n",
    "# Chatbot IA avec Rag\n",
    "\n",
    "Ce notebook implémente un chatbot IA avancé en utilisant **LangChain** et **LangGraph**.  \n",
    "Il intègre :\n",
    "- **RAG (Retrieval-Augmented Generation) avec affichage des sources**\n",
    "- **Streaming des réponses pour une meilleure expérience utilisateur**\n",
    "- **Mémoire conversationnelle pour un suivi des interactions**\n"
   ]
  },
  {
   "cell_type": "code",
   "execution_count": 3,
   "id": "74922548",
   "metadata": {},
   "outputs": [
    {
     "name": "stdout",
     "output_type": "stream",
     "text": [
      "\n",
      "\u001b[1m[\u001b[0m\u001b[34;49mnotice\u001b[0m\u001b[1;39;49m]\u001b[0m\u001b[39;49m A new release of pip is available: \u001b[0m\u001b[31;49m24.0\u001b[0m\u001b[39;49m -> \u001b[0m\u001b[32;49m25.0\u001b[0m\n",
      "\u001b[1m[\u001b[0m\u001b[34;49mnotice\u001b[0m\u001b[1;39;49m]\u001b[0m\u001b[39;49m To update, run: \u001b[0m\u001b[32;49mpip install --upgrade pip\u001b[0m\n",
      "\n",
      "\u001b[1m[\u001b[0m\u001b[34;49mnotice\u001b[0m\u001b[1;39;49m]\u001b[0m\u001b[39;49m A new release of pip is available: \u001b[0m\u001b[31;49m24.0\u001b[0m\u001b[39;49m -> \u001b[0m\u001b[32;49m25.0\u001b[0m\n",
      "\u001b[1m[\u001b[0m\u001b[34;49mnotice\u001b[0m\u001b[1;39;49m]\u001b[0m\u001b[39;49m To update, run: \u001b[0m\u001b[32;49mpip install --upgrade pip\u001b[0m\n",
      "Requirement already satisfied: langchain-mistralai in /Library/Frameworks/Python.framework/Versions/3.11/lib/python3.11/site-packages (0.2.6)\n",
      "Requirement already satisfied: httpx<1,>=0.25.2 in /Library/Frameworks/Python.framework/Versions/3.11/lib/python3.11/site-packages (from langchain-mistralai) (0.27.0)\n",
      "Requirement already satisfied: httpx-sse<1,>=0.3.1 in /Library/Frameworks/Python.framework/Versions/3.11/lib/python3.11/site-packages (from langchain-mistralai) (0.4.0)\n",
      "Requirement already satisfied: langchain-core<0.4.0,>=0.3.33 in /Library/Frameworks/Python.framework/Versions/3.11/lib/python3.11/site-packages (from langchain-mistralai) (0.3.33)\n",
      "Requirement already satisfied: pydantic<3,>=2 in /Library/Frameworks/Python.framework/Versions/3.11/lib/python3.11/site-packages (from langchain-mistralai) (2.10.6)\n",
      "Requirement already satisfied: tokenizers<1,>=0.15.1 in /Library/Frameworks/Python.framework/Versions/3.11/lib/python3.11/site-packages (from langchain-mistralai) (0.21.0)\n",
      "Requirement already satisfied: anyio in /Library/Frameworks/Python.framework/Versions/3.11/lib/python3.11/site-packages (from httpx<1,>=0.25.2->langchain-mistralai) (4.2.0)\n",
      "Requirement already satisfied: certifi in /Library/Frameworks/Python.framework/Versions/3.11/lib/python3.11/site-packages (from httpx<1,>=0.25.2->langchain-mistralai) (2023.5.7)\n",
      "Requirement already satisfied: httpcore==1.* in /Library/Frameworks/Python.framework/Versions/3.11/lib/python3.11/site-packages (from httpx<1,>=0.25.2->langchain-mistralai) (1.0.5)\n",
      "Requirement already satisfied: idna in /Library/Frameworks/Python.framework/Versions/3.11/lib/python3.11/site-packages (from httpx<1,>=0.25.2->langchain-mistralai) (3.4)\n",
      "Requirement already satisfied: sniffio in /Library/Frameworks/Python.framework/Versions/3.11/lib/python3.11/site-packages (from httpx<1,>=0.25.2->langchain-mistralai) (1.3.0)\n",
      "Requirement already satisfied: h11<0.15,>=0.13 in /Library/Frameworks/Python.framework/Versions/3.11/lib/python3.11/site-packages (from httpcore==1.*->httpx<1,>=0.25.2->langchain-mistralai) (0.14.0)\n",
      "Requirement already satisfied: PyYAML>=5.3 in /Library/Frameworks/Python.framework/Versions/3.11/lib/python3.11/site-packages (from langchain-core<0.4.0,>=0.3.33->langchain-mistralai) (6.0.1)\n",
      "Requirement already satisfied: jsonpatch<2.0,>=1.33 in /Library/Frameworks/Python.framework/Versions/3.11/lib/python3.11/site-packages (from langchain-core<0.4.0,>=0.3.33->langchain-mistralai) (1.33)\n",
      "Requirement already satisfied: langsmith<0.4,>=0.1.125 in /Library/Frameworks/Python.framework/Versions/3.11/lib/python3.11/site-packages (from langchain-core<0.4.0,>=0.3.33->langchain-mistralai) (0.3.4)\n",
      "Requirement already satisfied: packaging<25,>=23.2 in /Library/Frameworks/Python.framework/Versions/3.11/lib/python3.11/site-packages (from langchain-core<0.4.0,>=0.3.33->langchain-mistralai) (24.0)\n",
      "Requirement already satisfied: tenacity!=8.4.0,<10.0.0,>=8.1.0 in /Library/Frameworks/Python.framework/Versions/3.11/lib/python3.11/site-packages (from langchain-core<0.4.0,>=0.3.33->langchain-mistralai) (9.0.0)\n",
      "Requirement already satisfied: typing-extensions>=4.7 in /Library/Frameworks/Python.framework/Versions/3.11/lib/python3.11/site-packages (from langchain-core<0.4.0,>=0.3.33->langchain-mistralai) (4.12.2)\n",
      "Requirement already satisfied: annotated-types>=0.6.0 in /Library/Frameworks/Python.framework/Versions/3.11/lib/python3.11/site-packages (from pydantic<3,>=2->langchain-mistralai) (0.6.0)\n",
      "Requirement already satisfied: pydantic-core==2.27.2 in /Library/Frameworks/Python.framework/Versions/3.11/lib/python3.11/site-packages (from pydantic<3,>=2->langchain-mistralai) (2.27.2)\n",
      "Requirement already satisfied: huggingface-hub<1.0,>=0.16.4 in /Library/Frameworks/Python.framework/Versions/3.11/lib/python3.11/site-packages (from tokenizers<1,>=0.15.1->langchain-mistralai) (0.28.1)\n",
      "Requirement already satisfied: filelock in /Library/Frameworks/Python.framework/Versions/3.11/lib/python3.11/site-packages (from huggingface-hub<1.0,>=0.16.4->tokenizers<1,>=0.15.1->langchain-mistralai) (3.13.1)\n",
      "Requirement already satisfied: fsspec>=2023.5.0 in /Library/Frameworks/Python.framework/Versions/3.11/lib/python3.11/site-packages (from huggingface-hub<1.0,>=0.16.4->tokenizers<1,>=0.15.1->langchain-mistralai) (2023.12.2)\n",
      "Requirement already satisfied: requests in /Library/Frameworks/Python.framework/Versions/3.11/lib/python3.11/site-packages (from huggingface-hub<1.0,>=0.16.4->tokenizers<1,>=0.15.1->langchain-mistralai) (2.31.0)\n",
      "Requirement already satisfied: tqdm>=4.42.1 in /Library/Frameworks/Python.framework/Versions/3.11/lib/python3.11/site-packages (from huggingface-hub<1.0,>=0.16.4->tokenizers<1,>=0.15.1->langchain-mistralai) (4.66.1)\n",
      "Requirement already satisfied: jsonpointer>=1.9 in /Library/Frameworks/Python.framework/Versions/3.11/lib/python3.11/site-packages (from jsonpatch<2.0,>=1.33->langchain-core<0.4.0,>=0.3.33->langchain-mistralai) (3.0.0)\n",
      "Requirement already satisfied: orjson<4.0.0,>=3.9.14 in /Library/Frameworks/Python.framework/Versions/3.11/lib/python3.11/site-packages (from langsmith<0.4,>=0.1.125->langchain-core<0.4.0,>=0.3.33->langchain-mistralai) (3.10.15)\n",
      "Requirement already satisfied: requests-toolbelt<2.0.0,>=1.0.0 in /Library/Frameworks/Python.framework/Versions/3.11/lib/python3.11/site-packages (from langsmith<0.4,>=0.1.125->langchain-core<0.4.0,>=0.3.33->langchain-mistralai) (1.0.0)\n",
      "Requirement already satisfied: zstandard<0.24.0,>=0.23.0 in /Library/Frameworks/Python.framework/Versions/3.11/lib/python3.11/site-packages (from langsmith<0.4,>=0.1.125->langchain-core<0.4.0,>=0.3.33->langchain-mistralai) (0.23.0)\n",
      "Requirement already satisfied: charset-normalizer<4,>=2 in /Library/Frameworks/Python.framework/Versions/3.11/lib/python3.11/site-packages (from requests->huggingface-hub<1.0,>=0.16.4->tokenizers<1,>=0.15.1->langchain-mistralai) (3.1.0)\n",
      "Requirement already satisfied: urllib3<3,>=1.21.1 in /Library/Frameworks/Python.framework/Versions/3.11/lib/python3.11/site-packages (from requests->huggingface-hub<1.0,>=0.16.4->tokenizers<1,>=0.15.1->langchain-mistralai) (2.0.3)\n",
      "\n",
      "\u001b[1m[\u001b[0m\u001b[34;49mnotice\u001b[0m\u001b[1;39;49m]\u001b[0m\u001b[39;49m A new release of pip is available: \u001b[0m\u001b[31;49m24.0\u001b[0m\u001b[39;49m -> \u001b[0m\u001b[32;49m25.0\u001b[0m\n",
      "\u001b[1m[\u001b[0m\u001b[34;49mnotice\u001b[0m\u001b[1;39;49m]\u001b[0m\u001b[39;49m To update, run: \u001b[0m\u001b[32;49mpip install --upgrade pip\u001b[0m\n"
     ]
    }
   ],
   "source": [
    "\n",
    "!pip install --upgrade --quiet langchain langchain-community langchainhub beautifulsoup4 langchain-openai beautifulsoup4 chromadb\n",
    "!pip install --quiet langgraph\n",
    "!pip install --upgrade langchain-mistralai\n"
   ]
  },
  {
   "cell_type": "markdown",
   "id": "c2252217",
   "metadata": {},
   "source": [
    "##  Importation des bibliothèques"
   ]
  },
  {
   "cell_type": "code",
   "execution_count": 7,
   "id": "33bd2da3",
   "metadata": {},
   "outputs": [],
   "source": [
    "#  Importation des bibliothèques\n",
    "import os\n",
    "import json\n",
    "import getpass\n",
    "\n",
    "from langchain_mistralai.chat_models import ChatMistralAI\n",
    "from langchain_core.prompts import ChatPromptTemplate\n",
    "from langchain_community.vectorstores import Chroma\n",
    "from langgraph.graph import START, MessagesState, StateGraph\n",
    "from langchain_core.messages import HumanMessage\n",
    "from langgraph.checkpoint.memory import MemorySaver"
   ]
  },
  {
   "cell_type": "markdown",
   "id": "11b231b6",
   "metadata": {},
   "source": [
    "## Connexion à l'Api et initialisation du modèle"
   ]
  },
  {
   "cell_type": "code",
   "execution_count": 8,
   "id": "934cf46a",
   "metadata": {},
   "outputs": [],
   "source": [
    "# ----------------------------\n",
    "# Configuration API Mistral AI\n",
    "# ----------------------------\n",
    "MISTRAL_API_KEY = getpass.getpass(\"Entrez votre clé API Mistral: \")  \n",
    "MODEL_NAME = \"mistral-small-latest\" #test du modèle small pour combiner performance et prix accessible\n"
   ]
  },
  {
   "cell_type": "code",
   "execution_count": 9,
   "id": "f1948cbe",
   "metadata": {},
   "outputs": [],
   "source": [
    "# Initialisation du modèle / activation du streaming\n",
    "llm = ChatMistralAI(\n",
    "    mistral_api_key=MISTRAL_API_KEY,\n",
    "    model=MODEL_NAME,\n",
    "    streaming=True  \n",
    ")\n"
   ]
  },
  {
   "cell_type": "code",
   "execution_count": null,
   "id": "c4da18ef",
   "metadata": {},
   "outputs": [],
   "source": [
    "# -----------------------------\n",
    "# Chargement de la Vector DB Chroma\n",
    "# -----------------------------\n",
    "CHROMA_DB_PATH = \"./chroma_langchain_db\" \n",
    "vector_store = Chroma(persist_directory=CHROMA_DB_PATH)\n",
    "retriever = vector_store.as_retriever(search_type=\"mmr\", search_kwargs={\"k\": 3})\n"
   ]
  },
  {
   "cell_type": "markdown",
   "id": "e9168139",
   "metadata": {},
   "source": [
    "##  Définition du Prompt"
   ]
  },
  {
   "cell_type": "code",
   "execution_count": null,
   "id": "ffa57c96",
   "metadata": {},
   "outputs": [],
   "source": [
    "# ----------------------------\n",
    "# Définition du Prompt Optimisé\n",
    "# ----------------------------\n",
    "prompt_template = ChatPromptTemplate.from_template(\n",
    "    \"\"\"\n",
    "    Tu es un conseiller d'orientation professionnelle expérimenté, spécialisé dans l'accompagnement personnalisé des lycéens et étudiants. Ton rôle est d'aider l'utilisateur à faire des choix éclairés de formation ou de carrière en fonction de son parcours, de ses compétences, de ses hobbies et de ses aspirations professionnelles.\n",
    "\n",
    "    CONTEXTE:\n",
    "    ---------------------\n",
    "    {context}\n",
    "    ---------------------\n",
    "\n",
    "    Question de l'utilisateur: {input}\n",
    "\n",
    "    Fournis une réponse claire, structurée et motivante, en proposant des formations ou métiers adaptés, et en expliquant en quoi ils correspondent aux informations fournies par l'utilisateur.\n",
    "    \"\"\"\n",
    ")\n",
    "\"\"\""
   ]
  },
  {
   "cell_type": "markdown",
   "id": "6d73f90c",
   "metadata": {},
   "source": [
    "##  Définition du Chatbot avec mémoire, RAG"
   ]
  },
  {
   "cell_type": "code",
   "execution_count": null,
   "id": "d3b68f79",
   "metadata": {},
   "outputs": [],
   "source": [
    "# ----------------------------\n",
    "# Mise en place de la mémoire conversationnelle\n",
    "# ----------------------------\n",
    "memory = MemorySaver()\n",
    "workflow = StateGraph(state_schema=MessagesState)\n",
    "\n",
    "def call_model(state: MessagesState):\n",
    "    \"\"\"Appelle le modèle avec historique de conversation\"\"\"\n",
    "    response = llm.invoke(state[\"messages\"])\n",
    "    return {\"messages\": response}\n",
    "\n",
    "workflow.add_edge(START, \"model\")\n",
    "workflow.add_node(\"model\", call_model)\n",
    "chatbot = workflow.compile(checkpointer=memory)\n"
   ]
  },
  {
   "cell_type": "code",
   "execution_count": null,
   "id": "a172b6e5",
   "metadata": {},
   "outputs": [],
   "source": [
    "\n",
    "# ----------------------------\n",
    "# Fonction pour générer une réponse avec sources (RAG)\n",
    "# ----------------------------\n",
    "def generate_response(user_query: str):\n",
    "    \"\"\" Génère une réponse optimisée en incluant les sources RAG.\"\"\"\n",
    "\n",
    "    # Récupération du contexte\n",
    "    retrieved_docs = retriever.invoke(user_query)\n",
    "    context = \"\\n\".join([f\"Source: {doc.metadata.get('source', 'Inconnu')}\\n{doc.page_content}\" for doc in retrieved_docs])\n",
    "\n",
    "    # Construction du prompt\n",
    "    formatted_prompt = prompt_template.format(input=user_query, context=context)\n",
    "\n",
    "    # Appel au modèle Mistral\n",
    "    response = llm.invoke(formatted_prompt)\n",
    "\n",
    "    return {\n",
    "        \"response\": response,\n",
    "        \"sources\": [doc.metadata.get(\"source\", \"Inconnu\") for doc in retrieved_docs]\n",
    "    }"
   ]
  },
  {
   "cell_type": "code",
   "execution_count": null,
   "id": "a7a4be36",
   "metadata": {},
   "outputs": [],
   "source": []
  },
  {
   "cell_type": "markdown",
   "id": "9431756d",
   "metadata": {},
   "source": [
    "## Test du Chatbot"
   ]
  },
  {
   "cell_type": "code",
   "execution_count": null,
   "id": "29fd6117",
   "metadata": {},
   "outputs": [],
   "source": [
    "\n",
    "# ----------------------------\n",
    "# Test du chatbot avec une question utilisateur\n",
    "# ----------------------------\n",
    "user_input = \"Je suis étudiant en informatique et j'hésite entre devenir développeur ou data scientist. Que me recommandes-tu ?\"\n",
    "result = generate_response(user_input)\n",
    "\n",
    "print(\"\\n Réponse du chatbot :\")\n",
    "print(result[\"response\"])\n",
    "\n",
    "print(\"\\n Sources utilisées :\")\n",
    "for src in result[\"sources\"]:\n",
    "    print(f\" - {src}\")\n",
    "    \n"
   ]
  }
 ],
 "metadata": {
  "kernelspec": {
   "display_name": "Python 3",
   "language": "python",
   "name": "python3"
  },
  "language_info": {
   "codemirror_mode": {
    "name": "ipython",
    "version": 3
   },
   "file_extension": ".py",
   "mimetype": "text/x-python",
   "name": "python",
   "nbconvert_exporter": "python",
   "pygments_lexer": "ipython3",
   "version": "3.11.1"
  }
 },
 "nbformat": 4,
 "nbformat_minor": 5
}
