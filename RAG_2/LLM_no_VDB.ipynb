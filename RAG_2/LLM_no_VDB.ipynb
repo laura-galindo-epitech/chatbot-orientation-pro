{
 "cells": [
  {
   "cell_type": "markdown",
   "id": "ccaa569d",
   "metadata": {},
   "source": [
    "\n",
    "# Chatbot IA avec Rag\n",
    "\n",
    "Ce notebook implémente un chatbot IA avancé en utilisant **LangChain** et **LangGraph**.  \n",
    "Il intègre :\n",
    "- **RAG (Retrieval-Augmented Generation) avec affichage des sources**\n",
    "- **Streaming des réponses pour une meilleure expérience utilisateur**\n",
    "- **Mémoire conversationnelle pour un suivi des interactions**\n"
   ]
  },
  {
   "cell_type": "code",
   "execution_count": 3,
   "id": "74922548",
   "metadata": {},
   "outputs": [
    {
     "name": "stdout",
     "output_type": "stream",
     "text": [
      "\n",
      "\u001b[1m[\u001b[0m\u001b[34;49mnotice\u001b[0m\u001b[1;39;49m]\u001b[0m\u001b[39;49m A new release of pip is available: \u001b[0m\u001b[31;49m24.0\u001b[0m\u001b[39;49m -> \u001b[0m\u001b[32;49m25.0\u001b[0m\n",
      "\u001b[1m[\u001b[0m\u001b[34;49mnotice\u001b[0m\u001b[1;39;49m]\u001b[0m\u001b[39;49m To update, run: \u001b[0m\u001b[32;49mpip install --upgrade pip\u001b[0m\n",
      "\n",
      "\u001b[1m[\u001b[0m\u001b[34;49mnotice\u001b[0m\u001b[1;39;49m]\u001b[0m\u001b[39;49m A new release of pip is available: \u001b[0m\u001b[31;49m24.0\u001b[0m\u001b[39;49m -> \u001b[0m\u001b[32;49m25.0\u001b[0m\n",
      "\u001b[1m[\u001b[0m\u001b[34;49mnotice\u001b[0m\u001b[1;39;49m]\u001b[0m\u001b[39;49m To update, run: \u001b[0m\u001b[32;49mpip install --upgrade pip\u001b[0m\n",
      "Requirement already satisfied: langchain-mistralai in /Library/Frameworks/Python.framework/Versions/3.11/lib/python3.11/site-packages (0.2.6)\n",
      "Requirement already satisfied: httpx<1,>=0.25.2 in /Library/Frameworks/Python.framework/Versions/3.11/lib/python3.11/site-packages (from langchain-mistralai) (0.27.0)\n",
      "Requirement already satisfied: httpx-sse<1,>=0.3.1 in /Library/Frameworks/Python.framework/Versions/3.11/lib/python3.11/site-packages (from langchain-mistralai) (0.4.0)\n",
      "Requirement already satisfied: langchain-core<0.4.0,>=0.3.33 in /Library/Frameworks/Python.framework/Versions/3.11/lib/python3.11/site-packages (from langchain-mistralai) (0.3.33)\n",
      "Requirement already satisfied: pydantic<3,>=2 in /Library/Frameworks/Python.framework/Versions/3.11/lib/python3.11/site-packages (from langchain-mistralai) (2.10.6)\n",
      "Requirement already satisfied: tokenizers<1,>=0.15.1 in /Library/Frameworks/Python.framework/Versions/3.11/lib/python3.11/site-packages (from langchain-mistralai) (0.21.0)\n",
      "Requirement already satisfied: anyio in /Library/Frameworks/Python.framework/Versions/3.11/lib/python3.11/site-packages (from httpx<1,>=0.25.2->langchain-mistralai) (4.2.0)\n",
      "Requirement already satisfied: certifi in /Library/Frameworks/Python.framework/Versions/3.11/lib/python3.11/site-packages (from httpx<1,>=0.25.2->langchain-mistralai) (2023.5.7)\n",
      "Requirement already satisfied: httpcore==1.* in /Library/Frameworks/Python.framework/Versions/3.11/lib/python3.11/site-packages (from httpx<1,>=0.25.2->langchain-mistralai) (1.0.5)\n",
      "Requirement already satisfied: idna in /Library/Frameworks/Python.framework/Versions/3.11/lib/python3.11/site-packages (from httpx<1,>=0.25.2->langchain-mistralai) (3.4)\n",
      "Requirement already satisfied: sniffio in /Library/Frameworks/Python.framework/Versions/3.11/lib/python3.11/site-packages (from httpx<1,>=0.25.2->langchain-mistralai) (1.3.0)\n",
      "Requirement already satisfied: h11<0.15,>=0.13 in /Library/Frameworks/Python.framework/Versions/3.11/lib/python3.11/site-packages (from httpcore==1.*->httpx<1,>=0.25.2->langchain-mistralai) (0.14.0)\n",
      "Requirement already satisfied: PyYAML>=5.3 in /Library/Frameworks/Python.framework/Versions/3.11/lib/python3.11/site-packages (from langchain-core<0.4.0,>=0.3.33->langchain-mistralai) (6.0.1)\n",
      "Requirement already satisfied: jsonpatch<2.0,>=1.33 in /Library/Frameworks/Python.framework/Versions/3.11/lib/python3.11/site-packages (from langchain-core<0.4.0,>=0.3.33->langchain-mistralai) (1.33)\n",
      "Requirement already satisfied: langsmith<0.4,>=0.1.125 in /Library/Frameworks/Python.framework/Versions/3.11/lib/python3.11/site-packages (from langchain-core<0.4.0,>=0.3.33->langchain-mistralai) (0.3.4)\n",
      "Requirement already satisfied: packaging<25,>=23.2 in /Library/Frameworks/Python.framework/Versions/3.11/lib/python3.11/site-packages (from langchain-core<0.4.0,>=0.3.33->langchain-mistralai) (24.0)\n",
      "Requirement already satisfied: tenacity!=8.4.0,<10.0.0,>=8.1.0 in /Library/Frameworks/Python.framework/Versions/3.11/lib/python3.11/site-packages (from langchain-core<0.4.0,>=0.3.33->langchain-mistralai) (9.0.0)\n",
      "Requirement already satisfied: typing-extensions>=4.7 in /Library/Frameworks/Python.framework/Versions/3.11/lib/python3.11/site-packages (from langchain-core<0.4.0,>=0.3.33->langchain-mistralai) (4.12.2)\n",
      "Requirement already satisfied: annotated-types>=0.6.0 in /Library/Frameworks/Python.framework/Versions/3.11/lib/python3.11/site-packages (from pydantic<3,>=2->langchain-mistralai) (0.6.0)\n",
      "Requirement already satisfied: pydantic-core==2.27.2 in /Library/Frameworks/Python.framework/Versions/3.11/lib/python3.11/site-packages (from pydantic<3,>=2->langchain-mistralai) (2.27.2)\n",
      "Requirement already satisfied: huggingface-hub<1.0,>=0.16.4 in /Library/Frameworks/Python.framework/Versions/3.11/lib/python3.11/site-packages (from tokenizers<1,>=0.15.1->langchain-mistralai) (0.28.1)\n",
      "Requirement already satisfied: filelock in /Library/Frameworks/Python.framework/Versions/3.11/lib/python3.11/site-packages (from huggingface-hub<1.0,>=0.16.4->tokenizers<1,>=0.15.1->langchain-mistralai) (3.13.1)\n",
      "Requirement already satisfied: fsspec>=2023.5.0 in /Library/Frameworks/Python.framework/Versions/3.11/lib/python3.11/site-packages (from huggingface-hub<1.0,>=0.16.4->tokenizers<1,>=0.15.1->langchain-mistralai) (2023.12.2)\n",
      "Requirement already satisfied: requests in /Library/Frameworks/Python.framework/Versions/3.11/lib/python3.11/site-packages (from huggingface-hub<1.0,>=0.16.4->tokenizers<1,>=0.15.1->langchain-mistralai) (2.31.0)\n",
      "Requirement already satisfied: tqdm>=4.42.1 in /Library/Frameworks/Python.framework/Versions/3.11/lib/python3.11/site-packages (from huggingface-hub<1.0,>=0.16.4->tokenizers<1,>=0.15.1->langchain-mistralai) (4.66.1)\n",
      "Requirement already satisfied: jsonpointer>=1.9 in /Library/Frameworks/Python.framework/Versions/3.11/lib/python3.11/site-packages (from jsonpatch<2.0,>=1.33->langchain-core<0.4.0,>=0.3.33->langchain-mistralai) (3.0.0)\n",
      "Requirement already satisfied: orjson<4.0.0,>=3.9.14 in /Library/Frameworks/Python.framework/Versions/3.11/lib/python3.11/site-packages (from langsmith<0.4,>=0.1.125->langchain-core<0.4.0,>=0.3.33->langchain-mistralai) (3.10.15)\n",
      "Requirement already satisfied: requests-toolbelt<2.0.0,>=1.0.0 in /Library/Frameworks/Python.framework/Versions/3.11/lib/python3.11/site-packages (from langsmith<0.4,>=0.1.125->langchain-core<0.4.0,>=0.3.33->langchain-mistralai) (1.0.0)\n",
      "Requirement already satisfied: zstandard<0.24.0,>=0.23.0 in /Library/Frameworks/Python.framework/Versions/3.11/lib/python3.11/site-packages (from langsmith<0.4,>=0.1.125->langchain-core<0.4.0,>=0.3.33->langchain-mistralai) (0.23.0)\n",
      "Requirement already satisfied: charset-normalizer<4,>=2 in /Library/Frameworks/Python.framework/Versions/3.11/lib/python3.11/site-packages (from requests->huggingface-hub<1.0,>=0.16.4->tokenizers<1,>=0.15.1->langchain-mistralai) (3.1.0)\n",
      "Requirement already satisfied: urllib3<3,>=1.21.1 in /Library/Frameworks/Python.framework/Versions/3.11/lib/python3.11/site-packages (from requests->huggingface-hub<1.0,>=0.16.4->tokenizers<1,>=0.15.1->langchain-mistralai) (2.0.3)\n",
      "\n",
      "\u001b[1m[\u001b[0m\u001b[34;49mnotice\u001b[0m\u001b[1;39;49m]\u001b[0m\u001b[39;49m A new release of pip is available: \u001b[0m\u001b[31;49m24.0\u001b[0m\u001b[39;49m -> \u001b[0m\u001b[32;49m25.0\u001b[0m\n",
      "\u001b[1m[\u001b[0m\u001b[34;49mnotice\u001b[0m\u001b[1;39;49m]\u001b[0m\u001b[39;49m To update, run: \u001b[0m\u001b[32;49mpip install --upgrade pip\u001b[0m\n"
     ]
    }
   ],
   "source": [
    "\n",
    "!pip install --upgrade --quiet langchain langchain-community langchainhub beautifulsoup4 langchain-openai beautifulsoup4 chromadb\n",
    "!pip install --quiet langgraph\n",
    "!pip install --upgrade langchain-mistralai\n"
   ]
  },
  {
   "cell_type": "markdown",
   "id": "c2252217",
   "metadata": {},
   "source": [
    "##  Importation des bibliothèques"
   ]
  },
  {
   "cell_type": "code",
   "execution_count": 10,
   "id": "33bd2da3",
   "metadata": {},
   "outputs": [],
   "source": [
    "# Importation des bibliothèques\n",
    "\n",
    "import os\n",
    "import json\n",
    "import getpass\n",
    "\n",
    "from langchain_mistralai.chat_models import ChatMistralAI\n",
    "from langchain_core.prompts import ChatPromptTemplate\n",
    "from langgraph.graph import START, MessagesState, StateGraph\n",
    "from langchain_core.messages import HumanMessage\n",
    "from langgraph.checkpoint.memory import MemorySaver"
   ]
  },
  {
   "cell_type": "markdown",
   "id": "11b231b6",
   "metadata": {},
   "source": [
    "## Connexion à l'Api "
   ]
  },
  {
   "cell_type": "code",
   "execution_count": 11,
   "id": "934cf46a",
   "metadata": {},
   "outputs": [],
   "source": [
    "# Configuration API Mistral AI\n",
    "\n",
    "MISTRAL_API_KEY = getpass.getpass(\"Entrez votre clé API Mistral: \")  \n",
    "MODEL_NAME = \"mistral-small-latest\" #test du modèle small pour combiner performance et prix accessible\n"
   ]
  },
  {
   "cell_type": "code",
   "execution_count": 12,
   "id": "f1948cbe",
   "metadata": {},
   "outputs": [],
   "source": [
    "# Initialisation du modèle / activation du streaming\n",
    "llm = ChatMistralAI(\n",
    "    mistral_api_key=MISTRAL_API_KEY,\n",
    "    model=MODEL_NAME,\n",
    "    streaming=True  \n",
    ")"
   ]
  },
  {
   "cell_type": "markdown",
   "id": "e9168139",
   "metadata": {},
   "source": [
    "##  Définition du Prompt"
   ]
  },
  {
   "cell_type": "code",
   "execution_count": 13,
   "id": "ffa57c96",
   "metadata": {},
   "outputs": [],
   "source": [
    "# Définition du Prompt\n",
    "\n",
    "prompt_template = ChatPromptTemplate.from_template(\n",
    "    \"\"\"\n",
    "    Tu es un assistant d'orientation professionnelle. Ton rôle est d'aider l'utilisateur à faire des choix de carrière en fonction de son parcours, sa personnalité, ses compétences et ses préférences. Adapte toi à l'utilisateur. Soit complet mais concis.\n",
    "\n",
    "    CONTEXTE:\n",
    "    ---------------------\n",
    "    {context}\n",
    "    ---------------------\n",
    "\n",
    "    Question de l'utilisateur: {input}\n",
    "\n",
    "    Fournis une réponse claire, bien structurée et motivante.\n",
    "    \"\"\"\n",
    ")\n"
   ]
  },
  {
   "cell_type": "markdown",
   "id": "6d73f90c",
   "metadata": {},
   "source": [
    "##  Définition du Chatbot avec mémoire, RAG"
   ]
  },
  {
   "cell_type": "code",
   "execution_count": 14,
   "id": "d3b68f79",
   "metadata": {},
   "outputs": [],
   "source": [
    "# Mise en place de la mémoire conversationnelle\n",
    "\n",
    "memory = MemorySaver()\n",
    "workflow = StateGraph(state_schema=MessagesState)\n",
    "\n",
    "def call_model(state: MessagesState):\n",
    "    \"\"\"Appelle le modèle avec historique de conversation\"\"\"\n",
    "    response = llm.invoke(state[\"messages\"])\n",
    "    return {\"messages\": response}\n",
    "\n",
    "workflow.add_edge(START, \"model\")\n",
    "workflow.add_node(\"model\", call_model)\n",
    "chatbot = workflow.compile(checkpointer=memory)\n"
   ]
  },
  {
   "cell_type": "code",
   "execution_count": 15,
   "id": "a172b6e5",
   "metadata": {},
   "outputs": [],
   "source": [
    "# Fonction pour générer une réponse\n",
    "\n",
    "def generate_response(user_query: str):\n",
    "    \"\"\" Génère une réponse sans utiliser ChromaDB.\"\"\"\n",
    "\n",
    "    # Pas de récupération de contexte depuis une base de données vectorielle\n",
    "    context = \"Pas de contexte\"\n",
    "\n",
    "    # Construction du prompt\n",
    "    formatted_prompt = prompt_template.format(input=user_query, context=context)\n",
    "\n",
    "    # Appel au modèle Mistral\n",
    "    response = llm.invoke(formatted_prompt)\n",
    "\n",
    "    return {\n",
    "        \"response\": response,\n",
    "        \"sources\": [\"Aucune source (VDB désactivée)\"]\n",
    "    }"
   ]
  },
  {
   "cell_type": "markdown",
   "id": "9431756d",
   "metadata": {},
   "source": [
    "## Test du Chatbot"
   ]
  },
  {
   "cell_type": "code",
   "execution_count": 8,
   "id": "29fd6117",
   "metadata": {},
   "outputs": [
    {
     "name": "stdout",
     "output_type": "stream",
     "text": [
      "\n",
      " Réponse du chatbot :\n",
      "content=\"Bien sûr, je serais ravi de t'aider à faire ce choix important !\\n\\n### Développeur\\n\\n**Description du rôle :**\\n- **Responsabilités :** Conception, développement et maintenance de logiciels, applications web, et systèmes informatiques.\\n- **Compétences clés :** Programmation (langages comme Python, Java, JavaScript, etc.), développement de logiciels, résolution de problèmes, gestion de projets.\\n- **Environnement de travail :** Souvent dans des bureaux, avec des équipes de développement, mais le télétravail est également courant.\\n- **Perspectives de carrière :** Les développeurs peuvent évoluer vers des rôles de lead developer, architecte logiciel, ou même de chef de projet.\\n\\n**Avantages :**\\n- **Créativité :** Tu peux travailler sur des projets variés et innovants.\\n- **Demande élevée :** Il y a une forte demande pour les développeurs dans de nombreux secteurs.\\n- **Autonomie :** Possibilité de travailler en freelance ou dans des startups dynamiques.\\n\\n### Data Scientist\\n\\n**Description du rôle :**\\n- **Responsabilités :** Analyse de grandes quantités de données pour en extraire des informations utiles, modélisation prédictive, et création de solutions basées sur les données.\\n- **Compétences clés :** Statistiques, machine learning, programmation (Python, R), visualisation de données, analyse de données.\\n- **Environnement de travail :** Souvent dans des bureaux, avec des équipes de recherche et développement, mais le télétravail est également courant.\\n- **Perspectives de carrière :** Les data scientists peuvent évoluer vers des rôles de chef de produit data, architecte de données, ou même de directeur de la recherche.\\n\\n**Avantages :**\\n- **Impact :** Tu peux avoir un impact significatif sur les décisions stratégiques des entreprises.\\n- **Innovation :** Travail sur des technologies de pointe et des projets innovants.\\n- **Multidisciplinaire :** Combinaison de compétences en informatique, mathématiques et statistiques.\\n\\n### Recommandations\\n\\n**Si tu aimes :**\\n- **Créer des applications et des logiciels :** Deviens développeur.\\n- **Analyser des données et résoudre des problèmes complexes :** Deviens data scientist.\\n\\n**Si tu préfères :**\\n- **Travail concret et visible :** Développement logiciel.\\n- **Travail analytique et stratégique :** Data science.\\n\\n**Formation complémentaire :**\\n- Pour **développeur :** Suis des cours avancés en programmation, en développement web, et en gestion de projets.\\n- Pour **data scientist :** Suis des cours en statistiques, en machine learning, et en analyse de données.\\n\\n### Conclusion\\n\\nLes deux carrières sont passionnantes et très demandées. La décision dépendra de tes intérêts personnels et de tes compétences. Si tu aimes coder et créer des applications, le développement logiciel pourrait être plus gratifiant. Si tu es attiré par l'analyse de données et la modélisation prédictive, la data science pourrait être un meilleur choix.\\n\\nN'hésite pas à explorer les deux domaines à travers des projets personnels, des stages, ou des cours supplémentaires pour mieux comprendre lequel te passionne le plus. Bonne chance dans ta carrière !\" additional_kwargs={} response_metadata={} id='run-287db06d-0097-4caa-bbc5-59c50e0daeb8-0' usage_metadata={'input_tokens': 112, 'output_tokens': 672, 'total_tokens': 784}\n",
      "\n",
      " Sources utilisées :\n",
      " - Aucune source (VDB désactivée)\n"
     ]
    }
   ],
   "source": [
    "# Test du chatbot avec une question utilisateur\n",
    "\n",
    "user_input = \"Je suis étudiant en informatique et j'hésite entre devenir développeur ou data scientist. Que me recommandes-tu ?\"\n",
    "result = generate_response(user_input)\n",
    "\n",
    "print(\"\\n Réponse du chatbot :\")\n",
    "print(result[\"response\"])\n",
    "\n",
    "print(\"\\n Sources utilisées :\")\n",
    "for src in result[\"sources\"]:\n",
    "    print(f\" - {src}\")\n",
    "\n"
   ]
  },
  {
   "cell_type": "code",
   "execution_count": 16,
   "id": "00a9deee",
   "metadata": {},
   "outputs": [
    {
     "name": "stdout",
     "output_type": "stream",
     "text": [
      "\n",
      " Réponse du chatbot :\n",
      "content=\"Bien sûr, je comprends que tu es au lycée et que tu cherches à orienter ta carrière. Étant donné que tu es ENTP selon le test de personnalité MBTI, voici quelques conseils et suggestions de métiers qui pourraient correspondre à ton profil:\\n\\n### Caractéristiques des ENTP:\\n1. **Créatifs et innovants**: Les ENTP aiment résoudre des problèmes complexes et inventer de nouvelles idées.\\n2. **Analytiques et logiques**: Ils ont une forte capacité à analyser des situations et à prendre des décisions basées sur des données.\\n3. **Communicateurs efficaces**: Les ENTP sont bons pour expliquer des concepts complexes de manière claire et convaincante.\\n4. **Aventuriers et curieux**: Ils aiment explorer de nouveaux domaines et ne se contentent pas de la routine.\\n\\n### Suggestions de métiers:\\n1. **Ingénieur en informatique**: Ce domaine te permettra d'utiliser tes compétences analytiques et ta créativité pour développer des solutions technologiques.\\n2. **Consultant en gestion**: Tu pourras utiliser tes compétences en analyse et communication pour aider les entreprises à résoudre des problèmes complexes.\\n3. **Entrepreneur**: Si tu aimes l'aventure et l'innovation, créer ta propre entreprise pourrait être une excellente option.\\n4. **Chercheur en sciences**: Ce métier te permettra de faire des découvertes et de résoudre des énigmes scientifiques.\\n5. **Journaliste ou écrivain**: Si tu aimes communiquer des idées complexes de manière claire et engageante, ce domaine pourrait te convenir.\\n6. **Avocat**: Ce métier te permettra de défendre des causes importantes et de résoudre des problèmes juridiques complexes.\\n7. **Architecte**: Ce métier combine créativité et logique, te permettant de concevoir des structures innovantes.\\n\\n### Conseils pour ton orientation:\\n1. **Explore tes intérêts**: Profite de tes années de lycée pour explorer différents domaines à travers des clubs, des stages ou des projets scolaires.\\n2. **Développe tes compétences**: Les ENTP peuvent parfois être tentés de sauter d'un projet à l'autre. Essaye de te concentrer sur quelques compétences clés qui te seront utiles dans ton futur métier.\\n3. **Cherche des mentors**: Trouve des personnes qui travaillent dans des domaines qui t'intéressent et demande-leur des conseils et des orientations.\\n4. **Sois flexible**: Rappelle-toi que ton chemin de carrière peut évoluer. Sois ouvert aux nouvelles opportunités et prêt à t'adapter.\\n\\n### Prochaines étapes:\\n1. **Rencontre un conseiller d'orientation**: Ils peuvent te fournir des tests supplémentaires et des ressources pour t'aider à affiner tes choix.\\n2. **Participe à des salons d'orientation**: Cela te donnera une idée des différentes possibilités de carrière.\\n3. **Prépare-toi pour les études supérieures**: Choisis des programmes qui te permettent de développer tes compétences et tes connaissances dans les domaines qui t'intéressent.\\n\\nN'oublie pas que le choix de carrière est un processus dynamique. Tu as le potentiel de réussir dans de nombreux domaines, alors reste curieux et ouvert à de nouvelles expériences. Bonne chance!\" additional_kwargs={} response_metadata={} id='run-9618e169-778e-4847-8596-773bda2e387b-0' usage_metadata={'input_tokens': 138, 'output_tokens': 674, 'total_tokens': 812}\n",
      "\n",
      " Sources utilisées :\n",
      " - Aucune source (VDB désactivée)\n"
     ]
    }
   ],
   "source": [
    "# Test du chatbot avec une question utilisateur 2\n",
    "\n",
    "user_input = \"Je suis au lycée, je ne sais pas quel métier je veux faire mais je sais que je suis ENTP sur ma personnalité MBTI, que me conseilles tu ?\"\n",
    "result = generate_response(user_input)\n",
    "\n",
    "print(\"\\n Réponse du chatbot :\")\n",
    "print(result[\"response\"])\n",
    "\n",
    "print(\"\\n Sources utilisées :\")\n",
    "for src in result[\"sources\"]:\n",
    "    print(f\" - {src}\")\n"
   ]
  },
  {
   "cell_type": "code",
   "execution_count": null,
   "id": "8a64b59f",
   "metadata": {},
   "outputs": [],
   "source": []
  }
 ],
 "metadata": {
  "kernelspec": {
   "display_name": "Python 3",
   "language": "python",
   "name": "python3"
  },
  "language_info": {
   "codemirror_mode": {
    "name": "ipython",
    "version": 3
   },
   "file_extension": ".py",
   "mimetype": "text/x-python",
   "name": "python",
   "nbconvert_exporter": "python",
   "pygments_lexer": "ipython3",
   "version": "3.11.1"
  }
 },
 "nbformat": 4,
 "nbformat_minor": 5
}
